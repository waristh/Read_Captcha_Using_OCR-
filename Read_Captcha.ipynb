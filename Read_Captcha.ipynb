{
 "cells": [
  {
   "cell_type": "code",
   "execution_count": 1,
   "id": "b354d1f5",
   "metadata": {},
   "outputs": [],
   "source": [
    "# !pip install torch torchvision torchaudio\n",
    "# !pip install easyocr"
   ]
  },
  {
   "cell_type": "code",
   "execution_count": 2,
   "id": "a60c9b9e",
   "metadata": {},
   "outputs": [],
   "source": [
    "import easyocr\n",
    "import cv2\n",
    "from matplotlib import pyplot as plt\n",
    "import numpy as np"
   ]
  },
  {
   "cell_type": "code",
   "execution_count": 3,
   "id": "f215637f",
   "metadata": {},
   "outputs": [],
   "source": [
    "IMAGE_PATH = 'test.png'"
   ]
  },
  {
   "cell_type": "code",
   "execution_count": 4,
   "id": "e3ae2dbd",
   "metadata": {},
   "outputs": [
    {
     "name": "stderr",
     "output_type": "stream",
     "text": [
      "CUDA not available - defaulting to CPU. Note: This module is much faster with a GPU.\n"
     ]
    },
    {
     "data": {
      "text/plain": [
       "'68R3U'"
      ]
     },
     "execution_count": 4,
     "metadata": {},
     "output_type": "execute_result"
    },
    {
     "data": {
      "image/png": "[encoded data removed]",
      "text/plain": [
       "<Figure size 432x288 with 1 Axes>"
      ]
     },
     "metadata": {
      "needs_background": "light"
     },
     "output_type": "display_data"
    }
   ],
   "source": [
    "img = cv2.imread(IMAGE_PATH)\n",
    "\n",
    "#inverted image\n",
    "img = cv2.bitwise_not(img)\n",
    "\n",
    "#Rescaling image\n",
    "# img = cv2.resize(img,(1000,500))\n",
    "\n",
    "#Binarization image\n",
    "img = cv2.cvtColor(img, cv2.COLOR_BGR2GRAY)\n",
    "_,img = cv2.threshold(img,100,100,cv2.THRESH_BINARY)\n",
    "\n",
    "#Noise Removal\n",
    "# img = cv2.fastNlMeansDenoisingColored(img, None, 15, 15, 7, 20) \n",
    "kernel = np.ones((1,1),np.uint8)\n",
    "img = cv2.dilate(img,kernel,iterations = 1)\n",
    "img = cv2.erode(img,kernel,iterations = 1)\n",
    "img = cv2.morphologyEx(img,cv2.MORPH_CLOSE,kernel)\n",
    "img = cv2.medianBlur(img,3)\n",
    "\n",
    "#Dilation & Eration\n",
    "img = cv2.bitwise_not(img)\n",
    "img = cv2.erode(img,kernel,iterations = 1)\n",
    "img = cv2.bitwise_not(img)\n",
    "\n",
    "plt.imshow(img,cmap='gray')\n",
    "\n",
    "reader = easyocr.Reader(['en'])\n",
    "result = reader.recognize(img)\n",
    "result[0][1].replace(' ','')"
   ]
  },
  {
   "cell_type": "code",
   "execution_count": 5,
   "id": "b19d0271",
   "metadata": {},
   "outputs": [],
   "source": [
    "# img = cv2.imread(IMAGE_PATH)\n",
    "# img = cv2.fastNlMeansDenoisingColored(img,None,10,10,7,21)\n",
    "# # img = cv2.resize(img,(2000,500)) #resize image dengan panjang 500 dan tinggi/lebar 100\\n\"\n",
    "\n",
    "# #tampilkan img\n",
    "# plt.imshow(img, cmap=\"gray\")\n",
    "\n",
    "# reader = easyocr.Reader(['en'])\n",
    "# result = reader.recognize(img)\n",
    "# result"
   ]
  },
  {
   "cell_type": "code",
   "execution_count": 6,
   "id": "0d106d7c",
   "metadata": {},
   "outputs": [],
   "source": [
    "# img = cv2.imread(IMAGE_PATH)\n",
    "# img = cv2.fastNlMeansDenoisingColored(img,None,10,10,7,21)\n",
    "# img = cv2.cvtColor(img, cv2.COLOR_BGR2GRAY)\n",
    "# img = cv2.resize(img,(2000,500)) #resize image dengan panjang 500 dan tinggi/lebar 100\\n\"\n",
    "\n",
    "# plt.imshow(img, 'gray')\n",
    "\n",
    "# reader = easyocr.Reader(['en'])\n",
    "# result = reader.recognize(img)\n",
    "# result"
   ]
  },
  {
   "cell_type": "code",
   "execution_count": null,
   "id": "419700ba",
   "metadata": {},
   "outputs": [],
   "source": []
  }
 ],
 "metadata": {
  "kernelspec": {
   "display_name": "Python 3 (ipykernel)",
   "language": "python",
   "name": "python3"
  },
  "language_info": {
   "codemirror_mode": {
    "name": "ipython",
    "version": 3
   },
   "file_extension": ".py",
   "mimetype": "text/x-python",
   "name": "python",
   "nbconvert_exporter": "python",
   "pygments_lexer": "ipython3",
   "version": "3.8.11"
  }
 },
 "nbformat": 4,
 "nbformat_minor": 5
}
